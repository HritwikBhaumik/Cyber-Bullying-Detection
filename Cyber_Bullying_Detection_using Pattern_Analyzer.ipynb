{
 "cells": [
  {
   "cell_type": "markdown",
   "metadata": {},
   "source": [
    "### Importing the libraries"
   ]
  },
  {
   "cell_type": "code",
   "execution_count": 1,
   "metadata": {},
   "outputs": [],
   "source": [
    "import pandas as pd\n",
    "import numpy as np\n",
    "import matplotlib.pyplot as plt\n",
    "%matplotlib notebook\n",
    "from textblob import TextBlob as tb"
   ]
  },
  {
   "cell_type": "markdown",
   "metadata": {},
   "source": [
    "### Importing the Comments dataset"
   ]
  },
  {
   "cell_type": "code",
   "execution_count": 2,
   "metadata": {},
   "outputs": [
    {
     "data": {
      "text/html": [
       "<div>\n",
       "<style scoped>\n",
       "    .dataframe tbody tr th:only-of-type {\n",
       "        vertical-align: middle;\n",
       "    }\n",
       "\n",
       "    .dataframe tbody tr th {\n",
       "        vertical-align: top;\n",
       "    }\n",
       "\n",
       "    .dataframe thead th {\n",
       "        text-align: right;\n",
       "    }\n",
       "</style>\n",
       "<table border=\"1\" class=\"dataframe\">\n",
       "  <thead>\n",
       "    <tr style=\"text-align: right;\">\n",
       "      <th></th>\n",
       "      <th>Comment Id</th>\n",
       "      <th>Date</th>\n",
       "      <th>Time</th>\n",
       "      <th>form_id</th>\n",
       "      <th>From</th>\n",
       "      <th>Message</th>\n",
       "      <th>Likes</th>\n",
       "      <th>Comments</th>\n",
       "    </tr>\n",
       "  </thead>\n",
       "  <tbody>\n",
       "    <tr>\n",
       "      <th>0</th>\n",
       "      <td>609026476288715_609026876288675</td>\n",
       "      <td>7/23/2019</td>\n",
       "      <td>10:22</td>\n",
       "      <td>6.090000e+14</td>\n",
       "      <td>Bhai bhai</td>\n",
       "      <td>hi</td>\n",
       "      <td>0</td>\n",
       "      <td>0</td>\n",
       "    </tr>\n",
       "    <tr>\n",
       "      <th>1</th>\n",
       "      <td>609026476288715_609026892955340</td>\n",
       "      <td>7/23/2019</td>\n",
       "      <td>10:22</td>\n",
       "      <td>6.090000e+14</td>\n",
       "      <td>Bhai bhai</td>\n",
       "      <td>bye</td>\n",
       "      <td>0</td>\n",
       "      <td>1</td>\n",
       "    </tr>\n",
       "    <tr>\n",
       "      <th>2</th>\n",
       "      <td>609026476288715_609029069621789</td>\n",
       "      <td>7/23/2019</td>\n",
       "      <td>10:29</td>\n",
       "      <td>2.460000e+15</td>\n",
       "      <td>Harsh Khandelwal</td>\n",
       "      <td>wow very nice post..</td>\n",
       "      <td>0</td>\n",
       "      <td>2</td>\n",
       "    </tr>\n",
       "    <tr>\n",
       "      <th>3</th>\n",
       "      <td>609026476288715_609029662955063</td>\n",
       "      <td>7/23/2019</td>\n",
       "      <td>10:30</td>\n",
       "      <td>2.460000e+15</td>\n",
       "      <td>Harsh Khandelwal</td>\n",
       "      <td>very funny</td>\n",
       "      <td>0</td>\n",
       "      <td>0</td>\n",
       "    </tr>\n",
       "    <tr>\n",
       "      <th>4</th>\n",
       "      <td>609026476288715_609029732955056</td>\n",
       "      <td>7/23/2019</td>\n",
       "      <td>10:31</td>\n",
       "      <td>6.090000e+14</td>\n",
       "      <td>Bhai bhai</td>\n",
       "      <td>thankyou so much dear</td>\n",
       "      <td>0</td>\n",
       "      <td>0</td>\n",
       "    </tr>\n",
       "    <tr>\n",
       "      <th>5</th>\n",
       "      <td>609026476288715_609253272932702</td>\n",
       "      <td>7/23/2019</td>\n",
       "      <td>17:37</td>\n",
       "      <td>6.090000e+14</td>\n",
       "      <td>Bhai bhai</td>\n",
       "      <td>Shut up????</td>\n",
       "      <td>0</td>\n",
       "      <td>0</td>\n",
       "    </tr>\n",
       "    <tr>\n",
       "      <th>6</th>\n",
       "      <td>609026476288715_609264796264883</td>\n",
       "      <td>7/23/2019</td>\n",
       "      <td>18:03</td>\n",
       "      <td>6.090000e+14</td>\n",
       "      <td>Bhai bhai</td>\n",
       "      <td>you dumb ass</td>\n",
       "      <td>0</td>\n",
       "      <td>0</td>\n",
       "    </tr>\n",
       "    <tr>\n",
       "      <th>7</th>\n",
       "      <td>609026476288715_609264796264889</td>\n",
       "      <td>7/23/2019</td>\n",
       "      <td>18:03</td>\n",
       "      <td>4.090000e+14</td>\n",
       "      <td>Vidit</td>\n",
       "      <td>Very Bad post</td>\n",
       "      <td>0</td>\n",
       "      <td>0</td>\n",
       "    </tr>\n",
       "    <tr>\n",
       "      <th>8</th>\n",
       "      <td>609026476288715_609264796264890</td>\n",
       "      <td>7/23/2019</td>\n",
       "      <td>18:04</td>\n",
       "      <td>4.090000e+14</td>\n",
       "      <td>Vidit</td>\n",
       "      <td>वाह तुम कमाल की लग रही हो</td>\n",
       "      <td>0</td>\n",
       "      <td>0</td>\n",
       "    </tr>\n",
       "    <tr>\n",
       "      <th>9</th>\n",
       "      <td>609026476288715_609029662955063</td>\n",
       "      <td>7/23/2019</td>\n",
       "      <td>10:30:00</td>\n",
       "      <td>2.460000e+15</td>\n",
       "      <td>Harsh Khandelwal</td>\n",
       "      <td>سيئ جدا</td>\n",
       "      <td>0</td>\n",
       "      <td>0</td>\n",
       "    </tr>\n",
       "  </tbody>\n",
       "</table>\n",
       "</div>"
      ],
      "text/plain": [
       "                        Comment Id       Date      Time       form_id  \\\n",
       "0  609026476288715_609026876288675  7/23/2019     10:22  6.090000e+14   \n",
       "1  609026476288715_609026892955340  7/23/2019     10:22  6.090000e+14   \n",
       "2  609026476288715_609029069621789  7/23/2019     10:29  2.460000e+15   \n",
       "3  609026476288715_609029662955063  7/23/2019     10:30  2.460000e+15   \n",
       "4  609026476288715_609029732955056  7/23/2019     10:31  6.090000e+14   \n",
       "5  609026476288715_609253272932702  7/23/2019     17:37  6.090000e+14   \n",
       "6  609026476288715_609264796264883  7/23/2019     18:03  6.090000e+14   \n",
       "7  609026476288715_609264796264889  7/23/2019     18:03  4.090000e+14   \n",
       "8  609026476288715_609264796264890  7/23/2019     18:04  4.090000e+14   \n",
       "9  609026476288715_609029662955063  7/23/2019  10:30:00  2.460000e+15   \n",
       "\n",
       "               From                    Message  Likes  Comments  \n",
       "0         Bhai bhai                         hi      0         0  \n",
       "1         Bhai bhai                        bye      0         1  \n",
       "2  Harsh Khandelwal       wow very nice post..      0         2  \n",
       "3  Harsh Khandelwal                 very funny      0         0  \n",
       "4         Bhai bhai      thankyou so much dear      0         0  \n",
       "5         Bhai bhai                Shut up????      0         0  \n",
       "6         Bhai bhai               you dumb ass      0         0  \n",
       "7             Vidit              Very Bad post      0         0  \n",
       "8             Vidit  वाह तुम कमाल की लग रही हो      0         0  \n",
       "9  Harsh Khandelwal                    سيئ جدا      0         0  "
      ]
     },
     "execution_count": 2,
     "metadata": {},
     "output_type": "execute_result"
    }
   ],
   "source": [
    "df=pd.read_csv(\"Desktop/comments_609026426288720 (2).csv\")\n",
    "df"
   ]
  },
  {
   "cell_type": "markdown",
   "metadata": {},
   "source": [
    "### Importing the Reactions dataset"
   ]
  },
  {
   "cell_type": "code",
   "execution_count": 3,
   "metadata": {},
   "outputs": [
    {
     "data": {
      "text/html": [
       "<div>\n",
       "<style scoped>\n",
       "    .dataframe tbody tr th:only-of-type {\n",
       "        vertical-align: middle;\n",
       "    }\n",
       "\n",
       "    .dataframe tbody tr th {\n",
       "        vertical-align: top;\n",
       "    }\n",
       "\n",
       "    .dataframe thead th {\n",
       "        text-align: right;\n",
       "    }\n",
       "</style>\n",
       "<table border=\"1\" class=\"dataframe\">\n",
       "  <thead>\n",
       "    <tr style=\"text-align: right;\">\n",
       "      <th></th>\n",
       "      <th>form_id</th>\n",
       "      <th>From</th>\n",
       "      <th>Type</th>\n",
       "    </tr>\n",
       "  </thead>\n",
       "  <tbody>\n",
       "    <tr>\n",
       "      <th>0</th>\n",
       "      <td>6.090000e+14</td>\n",
       "      <td>Bhai bhai</td>\n",
       "      <td>LIKE</td>\n",
       "    </tr>\n",
       "    <tr>\n",
       "      <th>1</th>\n",
       "      <td>2.460000e+15</td>\n",
       "      <td>Harsh Khandelwal</td>\n",
       "      <td>HAHA</td>\n",
       "    </tr>\n",
       "    <tr>\n",
       "      <th>2</th>\n",
       "      <td>4.090000e+14</td>\n",
       "      <td>Vidit</td>\n",
       "      <td>Angry</td>\n",
       "    </tr>\n",
       "  </tbody>\n",
       "</table>\n",
       "</div>"
      ],
      "text/plain": [
       "        form_id              From   Type\n",
       "0  6.090000e+14         Bhai bhai   LIKE\n",
       "1  2.460000e+15  Harsh Khandelwal   HAHA\n",
       "2  4.090000e+14             Vidit  Angry"
      ]
     },
     "execution_count": 3,
     "metadata": {},
     "output_type": "execute_result"
    }
   ],
   "source": [
    "df1=pd.read_csv(\"Desktop/reactions_609026426288720(1).csv\")\n",
    "df1"
   ]
  },
  {
   "cell_type": "markdown",
   "metadata": {},
   "source": [
    "### Importing the Corpus(Vulgar words)"
   ]
  },
  {
   "cell_type": "code",
   "execution_count": 4,
   "metadata": {},
   "outputs": [],
   "source": [
    "data=pd.read_csv(\"Desktop/data.csv\")"
   ]
  },
  {
   "cell_type": "code",
   "execution_count": 5,
   "metadata": {},
   "outputs": [
    {
     "data": {
      "text/plain": [
       "0    6.090000e+14\n",
       "1    6.090000e+14\n",
       "2    2.460000e+15\n",
       "3    2.460000e+15\n",
       "4    6.090000e+14\n",
       "5    6.090000e+14\n",
       "6    6.090000e+14\n",
       "7    4.090000e+14\n",
       "8    4.090000e+14\n",
       "9    2.460000e+15\n",
       "Name: form_id, dtype: float64"
      ]
     },
     "execution_count": 5,
     "metadata": {},
     "output_type": "execute_result"
    }
   ],
   "source": [
    "df[\"form_id\"]  #Column used to merge the comments and the reactions"
   ]
  },
  {
   "cell_type": "markdown",
   "metadata": {},
   "source": [
    "### Merging the Dataset"
   ]
  },
  {
   "cell_type": "code",
   "execution_count": 6,
   "metadata": {},
   "outputs": [
    {
     "data": {
      "text/html": [
       "<div>\n",
       "<style scoped>\n",
       "    .dataframe tbody tr th:only-of-type {\n",
       "        vertical-align: middle;\n",
       "    }\n",
       "\n",
       "    .dataframe tbody tr th {\n",
       "        vertical-align: top;\n",
       "    }\n",
       "\n",
       "    .dataframe thead th {\n",
       "        text-align: right;\n",
       "    }\n",
       "</style>\n",
       "<table border=\"1\" class=\"dataframe\">\n",
       "  <thead>\n",
       "    <tr style=\"text-align: right;\">\n",
       "      <th></th>\n",
       "      <th>Comment Id</th>\n",
       "      <th>Date</th>\n",
       "      <th>Time</th>\n",
       "      <th>form_id</th>\n",
       "      <th>From_x</th>\n",
       "      <th>Message</th>\n",
       "      <th>Likes</th>\n",
       "      <th>Comments</th>\n",
       "      <th>Type</th>\n",
       "    </tr>\n",
       "  </thead>\n",
       "  <tbody>\n",
       "    <tr>\n",
       "      <th>0</th>\n",
       "      <td>609026476288715_609026876288675</td>\n",
       "      <td>7/23/2019</td>\n",
       "      <td>10:22</td>\n",
       "      <td>6.090000e+14</td>\n",
       "      <td>Bhai bhai</td>\n",
       "      <td>hi</td>\n",
       "      <td>0</td>\n",
       "      <td>0</td>\n",
       "      <td>LIKE</td>\n",
       "    </tr>\n",
       "    <tr>\n",
       "      <th>1</th>\n",
       "      <td>609026476288715_609026892955340</td>\n",
       "      <td>7/23/2019</td>\n",
       "      <td>10:22</td>\n",
       "      <td>6.090000e+14</td>\n",
       "      <td>Bhai bhai</td>\n",
       "      <td>bye</td>\n",
       "      <td>0</td>\n",
       "      <td>1</td>\n",
       "      <td>LIKE</td>\n",
       "    </tr>\n",
       "    <tr>\n",
       "      <th>2</th>\n",
       "      <td>609026476288715_609029732955056</td>\n",
       "      <td>7/23/2019</td>\n",
       "      <td>10:31</td>\n",
       "      <td>6.090000e+14</td>\n",
       "      <td>Bhai bhai</td>\n",
       "      <td>thankyou so much dear</td>\n",
       "      <td>0</td>\n",
       "      <td>0</td>\n",
       "      <td>LIKE</td>\n",
       "    </tr>\n",
       "    <tr>\n",
       "      <th>3</th>\n",
       "      <td>609026476288715_609253272932702</td>\n",
       "      <td>7/23/2019</td>\n",
       "      <td>17:37</td>\n",
       "      <td>6.090000e+14</td>\n",
       "      <td>Bhai bhai</td>\n",
       "      <td>Shut up????</td>\n",
       "      <td>0</td>\n",
       "      <td>0</td>\n",
       "      <td>LIKE</td>\n",
       "    </tr>\n",
       "    <tr>\n",
       "      <th>4</th>\n",
       "      <td>609026476288715_609264796264883</td>\n",
       "      <td>7/23/2019</td>\n",
       "      <td>18:03</td>\n",
       "      <td>6.090000e+14</td>\n",
       "      <td>Bhai bhai</td>\n",
       "      <td>you dumb ass</td>\n",
       "      <td>0</td>\n",
       "      <td>0</td>\n",
       "      <td>LIKE</td>\n",
       "    </tr>\n",
       "    <tr>\n",
       "      <th>5</th>\n",
       "      <td>609026476288715_609029069621789</td>\n",
       "      <td>7/23/2019</td>\n",
       "      <td>10:29</td>\n",
       "      <td>2.460000e+15</td>\n",
       "      <td>Harsh Khandelwal</td>\n",
       "      <td>wow very nice post..</td>\n",
       "      <td>0</td>\n",
       "      <td>2</td>\n",
       "      <td>HAHA</td>\n",
       "    </tr>\n",
       "    <tr>\n",
       "      <th>6</th>\n",
       "      <td>609026476288715_609029662955063</td>\n",
       "      <td>7/23/2019</td>\n",
       "      <td>10:30</td>\n",
       "      <td>2.460000e+15</td>\n",
       "      <td>Harsh Khandelwal</td>\n",
       "      <td>very funny</td>\n",
       "      <td>0</td>\n",
       "      <td>0</td>\n",
       "      <td>HAHA</td>\n",
       "    </tr>\n",
       "    <tr>\n",
       "      <th>7</th>\n",
       "      <td>609026476288715_609029662955063</td>\n",
       "      <td>7/23/2019</td>\n",
       "      <td>10:30:00</td>\n",
       "      <td>2.460000e+15</td>\n",
       "      <td>Harsh Khandelwal</td>\n",
       "      <td>سيئ جدا</td>\n",
       "      <td>0</td>\n",
       "      <td>0</td>\n",
       "      <td>HAHA</td>\n",
       "    </tr>\n",
       "    <tr>\n",
       "      <th>8</th>\n",
       "      <td>609026476288715_609264796264889</td>\n",
       "      <td>7/23/2019</td>\n",
       "      <td>18:03</td>\n",
       "      <td>4.090000e+14</td>\n",
       "      <td>Vidit</td>\n",
       "      <td>Very Bad post</td>\n",
       "      <td>0</td>\n",
       "      <td>0</td>\n",
       "      <td>Angry</td>\n",
       "    </tr>\n",
       "    <tr>\n",
       "      <th>9</th>\n",
       "      <td>609026476288715_609264796264890</td>\n",
       "      <td>7/23/2019</td>\n",
       "      <td>18:04</td>\n",
       "      <td>4.090000e+14</td>\n",
       "      <td>Vidit</td>\n",
       "      <td>वाह तुम कमाल की लग रही हो</td>\n",
       "      <td>0</td>\n",
       "      <td>0</td>\n",
       "      <td>Angry</td>\n",
       "    </tr>\n",
       "  </tbody>\n",
       "</table>\n",
       "</div>"
      ],
      "text/plain": [
       "                        Comment Id       Date      Time       form_id  \\\n",
       "0  609026476288715_609026876288675  7/23/2019     10:22  6.090000e+14   \n",
       "1  609026476288715_609026892955340  7/23/2019     10:22  6.090000e+14   \n",
       "2  609026476288715_609029732955056  7/23/2019     10:31  6.090000e+14   \n",
       "3  609026476288715_609253272932702  7/23/2019     17:37  6.090000e+14   \n",
       "4  609026476288715_609264796264883  7/23/2019     18:03  6.090000e+14   \n",
       "5  609026476288715_609029069621789  7/23/2019     10:29  2.460000e+15   \n",
       "6  609026476288715_609029662955063  7/23/2019     10:30  2.460000e+15   \n",
       "7  609026476288715_609029662955063  7/23/2019  10:30:00  2.460000e+15   \n",
       "8  609026476288715_609264796264889  7/23/2019     18:03  4.090000e+14   \n",
       "9  609026476288715_609264796264890  7/23/2019     18:04  4.090000e+14   \n",
       "\n",
       "             From_x                    Message  Likes  Comments   Type  \n",
       "0         Bhai bhai                         hi      0         0   LIKE  \n",
       "1         Bhai bhai                        bye      0         1   LIKE  \n",
       "2         Bhai bhai      thankyou so much dear      0         0   LIKE  \n",
       "3         Bhai bhai                Shut up????      0         0   LIKE  \n",
       "4         Bhai bhai               you dumb ass      0         0   LIKE  \n",
       "5  Harsh Khandelwal       wow very nice post..      0         2   HAHA  \n",
       "6  Harsh Khandelwal                 very funny      0         0   HAHA  \n",
       "7  Harsh Khandelwal                    سيئ جدا      0         0   HAHA  \n",
       "8             Vidit              Very Bad post      0         0  Angry  \n",
       "9             Vidit  वाह तुम कमाल की लग रही हो      0         0  Angry  "
      ]
     },
     "execution_count": 6,
     "metadata": {},
     "output_type": "execute_result"
    }
   ],
   "source": [
    "merged = df.merge(df1, on='form_id')\n",
    "del merged[\"From_y\"]\n",
    "merged.to_csv(\"output.csv\", index=False)\n",
    "merged"
   ]
  },
  {
   "cell_type": "markdown",
   "metadata": {},
   "source": [
    "### Defining lists for differnet categories of the comments"
   ]
  },
  {
   "cell_type": "code",
   "execution_count": 7,
   "metadata": {},
   "outputs": [],
   "source": [
    "positive=[]\n",
    "negative=[]\n",
    "neutral=[]\n",
    "facts=[]\n",
    "abusive=[]\n",
    "others=[]"
   ]
  },
  {
   "cell_type": "markdown",
   "metadata": {},
   "source": [
    "### Training the Model"
   ]
  },
  {
   "cell_type": "code",
   "execution_count": 8,
   "metadata": {},
   "outputs": [],
   "source": [
    "from __future__ import absolute_import\n",
    "from collections import namedtuple\n",
    "import nltk\n",
    "from textblob.en import sentiment as pattern_sentiment\n",
    "from textblob.tokenizers import word_tokenize\n",
    "from textblob.decorators import requires_nltk_corpus\n",
    "from textblob.base import BaseSentimentAnalyzer, DISCRETE, CONTINUOUS\n",
    "\n",
    "\n",
    "class PatternAnalyzer(BaseSentimentAnalyzer):\n",
    "   \n",
    "    kind = CONTINUOUS\n",
    "    RETURN_TYPE = namedtuple('Sentiment', ['polarity', 'subjectivity'])\n",
    "\n",
    "    def analyze(self, text, keep_assessments=False):\n",
    "        \n",
    "        if keep_assessments:\n",
    "            Sentiment = namedtuple('Sentiment', ['polarity', 'subjectivity', 'assessments'])\n",
    "            assessments = pattern_sentiment(text).assessments\n",
    "            polarity, subjectivity = pattern_sentiment(text)\n",
    "            return Sentiment(polarity, subjectivity, assessments)\n",
    "\n",
    "        else:\n",
    "            Sentiment = namedtuple('Sentiment', ['polarity', 'subjectivity'])\n",
    "            return Sentiment(*pattern_sentiment(text))\n",
    "\n",
    "\n",
    "\n",
    "def _default_feature_extractor(words):\n",
    "    return dict(((word, True) for word in words))\n"
   ]
  },
  {
   "cell_type": "markdown",
   "metadata": {},
   "source": [
    "### Categorizing the comment"
   ]
  },
  {
   "cell_type": "code",
   "execution_count": 9,
   "metadata": {},
   "outputs": [
    {
     "name": "stdout",
     "output_type": "stream",
     "text": [
      "hi LIKE\n",
      "en\n",
      "Sentiment(polarity=0.0, subjectivity=0.0)\n",
      "bye LIKE\n",
      "en\n",
      "Sentiment(polarity=0.0, subjectivity=0.0)\n",
      "thankyou so much dear LIKE\n",
      "en\n",
      "Sentiment(polarity=0.2, subjectivity=0.2)\n",
      "Shut up???? LIKE\n",
      "en\n",
      "Sentiment(polarity=0.0, subjectivity=0.0)\n",
      "you dumb ass LIKE\n",
      "en\n",
      "Sentiment(polarity=-0.375, subjectivity=0.5)\n",
      "wow very nice post.. HAHA\n",
      "en\n",
      "Sentiment(polarity=0.36000000000000004, subjectivity=0.7666666666666666)\n",
      "very funny HAHA\n",
      "en\n",
      "Sentiment(polarity=0.2625, subjectivity=0.65)\n",
      "سيئ جدا HAHA\n",
      "ar\n",
      "Sentiment(polarity=-0.24999999999999992, subjectivity=0.4833333333333333)\n",
      "Very Bad post Angry\n",
      "en\n",
      "Sentiment(polarity=-0.7049999999999998, subjectivity=0.9333333333333333)\n",
      "वाह तुम कमाल की लग रही हो Angry\n",
      "hi\n",
      "Sentiment(polarity=0.35000000000000003, subjectivity=0.95)\n"
     ]
    }
   ],
   "source": [
    "comm=merged[\"Message\"] +\" \"+ merged[\"Type\"]  # Mapping comment with the reaction\n",
    "\n",
    "reac=merged[\"Type\"]\n",
    "comm_id=merged[\"Comment Id\"]\n",
    "\n",
    "\n",
    "# Categorizing the comments\n",
    "for i in range(len(merged)):\n",
    "    b=comm[i]\n",
    "    flag=int(0)\n",
    "    blob = tb(b)\n",
    "    p=blob.detect_language()\n",
    "    print(b)\n",
    "    print(p)\n",
    "    if(p!='en'):\n",
    "        b=blob.translate(from_lang=p, to ='en')\n",
    "        if(b.sentiment.polarity>0.30 and b.sentiment.subjectivity!=1):\n",
    "            positive.append(comm_id[i])\n",
    "\n",
    "        elif(b.sentiment.polarity==0 and b.sentiment.subjectivity!=1):\n",
    "            neutral.append(comm_id[i])\n",
    "\n",
    "        elif(b.sentiment.polarity<-0.25 and b.sentiment.subjectivity!=1):\n",
    "            for row in data:\n",
    "                if(row.lower() in b):\n",
    "                    abusive.append(b)\n",
    "                    flag=1;\n",
    "                    break;\n",
    "            if(flag==0):\n",
    "                negative.append(b)            \n",
    "\n",
    "        elif(b.sentiment.subjectivity>=0.75):\n",
    "            facts.append(comm_id[i])\n",
    "        else:\n",
    "            others.append(comm_id[i])\n",
    "        \n",
    "        print(b.sentiment)\n",
    "        \n",
    "        \n",
    "    else:\n",
    "        if(tb(b).sentiment.polarity>0.30 and tb(b).sentiment.subjectivity!=1):\n",
    "            positive.append(comm_id[i])\n",
    "\n",
    "        elif(tb(b).sentiment.polarity==0 and tb(b).sentiment.subjectivity!=1):\n",
    "            neutral.append(comm_id[i])\n",
    "\n",
    "        elif(tb(b).sentiment.polarity<-0.25 and tb(b).sentiment.subjectivity!=1):\n",
    "            for row in data:\n",
    "                if(row.lower() in b):\n",
    "                    abusive.append(b)\n",
    "                    flag=1;\n",
    "                    break;\n",
    "            if(flag==0):\n",
    "                negative.append(b)            \n",
    "\n",
    "        elif(tb(b).sentiment.subjectivity>=0.75):\n",
    "            facts.append(comm_id[i])\n",
    "        else:\n",
    "            others.append(comm_id[i])\n",
    "             \n",
    "        print(tb(b).sentiment)"
   ]
  },
  {
   "cell_type": "code",
   "execution_count": 10,
   "metadata": {},
   "outputs": [
    {
     "data": {
      "text/plain": [
       "['609026476288715_609026876288675',\n",
       " '609026476288715_609026892955340',\n",
       " '609026476288715_609253272932702']"
      ]
     },
     "execution_count": 10,
     "metadata": {},
     "output_type": "execute_result"
    }
   ],
   "source": [
    "neutral"
   ]
  },
  {
   "cell_type": "code",
   "execution_count": 11,
   "metadata": {},
   "outputs": [
    {
     "data": {
      "text/plain": [
       "[]"
      ]
     },
     "execution_count": 11,
     "metadata": {},
     "output_type": "execute_result"
    }
   ],
   "source": [
    "facts"
   ]
  },
  {
   "cell_type": "code",
   "execution_count": 12,
   "metadata": {},
   "outputs": [
    {
     "data": {
      "text/plain": [
       "['609026476288715_609029069621789', '609026476288715_609264796264890']"
      ]
     },
     "execution_count": 12,
     "metadata": {},
     "output_type": "execute_result"
    }
   ],
   "source": [
    "positive"
   ]
  },
  {
   "cell_type": "code",
   "execution_count": 13,
   "metadata": {},
   "outputs": [
    {
     "data": {
      "text/plain": [
       "Sentiment(polarity=-0.375, subjectivity=0.5)"
      ]
     },
     "execution_count": 13,
     "metadata": {},
     "output_type": "execute_result"
    }
   ],
   "source": [
    "tb(\"you dumb ass LIKE\").sentiment"
   ]
  },
  {
   "cell_type": "code",
   "execution_count": 14,
   "metadata": {},
   "outputs": [
    {
     "data": {
      "text/plain": [
       "['you dumb ass LIKE']"
      ]
     },
     "execution_count": 14,
     "metadata": {},
     "output_type": "execute_result"
    }
   ],
   "source": [
    "abusive"
   ]
  },
  {
   "cell_type": "code",
   "execution_count": 15,
   "metadata": {},
   "outputs": [
    {
     "data": {
      "text/plain": [
       "array(['Very Bad post Angry'], dtype='<U19')"
      ]
     },
     "execution_count": 15,
     "metadata": {},
     "output_type": "execute_result"
    }
   ],
   "source": [
    "neg=np.array(negative)\n",
    "np.unique(neg)"
   ]
  },
  {
   "cell_type": "markdown",
   "metadata": {},
   "source": [
    "### Calculating the percentage of each category"
   ]
  },
  {
   "cell_type": "code",
   "execution_count": 16,
   "metadata": {},
   "outputs": [],
   "source": [
    "p_positive = (len(positive)/len(merged))*100\n",
    "p_negative = (np.unique(neg).size/len(merged))*100\n",
    "p_neutral  = (len(neutral)/len(merged))*100\n",
    "p_facts    = (len(facts)/len(merged))*100\n",
    "p_abusive  = (len(abusive)/len(merged))*100\n",
    "p_others  = (len(others)/len(merged))*100"
   ]
  },
  {
   "cell_type": "code",
   "execution_count": 17,
   "metadata": {},
   "outputs": [
    {
     "name": "stdout",
     "output_type": "stream",
     "text": [
      "20.0% people's comment was positive\n",
      "10.0% people's comment was negative\n",
      "30.0% people's comment was neutral\n",
      "0.0% people's comment was facts\n",
      "10.0% people's comment was abusive\n",
      "30.0% people's comment was others(funny,sad...)\n"
     ]
    }
   ],
   "source": [
    "#Printing the percentage\n",
    "\n",
    "print(str(p_positive) + \"% people's comment was positive\")\n",
    "print(str(p_negative) + \"% people's comment was negative\")\n",
    "print(str(p_neutral) + \"% people's comment was neutral\")\n",
    "print(str(p_facts) + \"% people's comment was facts\")\n",
    "print(str(p_abusive) + \"% people's comment was abusive\")\n",
    "print(str(p_others) + \"% people's comment was others(funny,sad...)\")"
   ]
  },
  {
   "cell_type": "markdown",
   "metadata": {},
   "source": [
    "### Plotting the Bar graph"
   ]
  },
  {
   "cell_type": "code",
   "execution_count": 18,
   "metadata": {
    "scrolled": true
   },
   "outputs": [
    {
     "data": {
      "image/png": "[encoded data removed]",
      "text/plain": [
       "<Figure size 432x288 with 1 Axes>"
      ]
     },
     "metadata": {
      "needs_background": "light"
     },
     "output_type": "display_data"
    }
   ],
   "source": [
    "height = [p_positive, p_negative, p_neutral, p_facts,p_abusive,p_others]\n",
    "bars = ('Positive', 'Negative', 'Neutral', 'Facts', 'Abusive', 'Others')\n",
    "y_pos = np.arange(len(bars))\n",
    " \n",
    "# Create bars and choose color\n",
    "plt.bar(y_pos, height, color = (0.5,0.1,0.5,0.6))\n",
    " \n",
    "# Add title and axis names\n",
    "plt.title('Categories classification by Naive Bayes Algorithm')\n",
    "plt.xlabel('Categories')\n",
    "plt.ylabel('Count')\n",
    " \n",
    "# Limits for the Y axis\n",
    "plt.ylim(0,80)\n",
    " \n",
    "# Create names\n",
    "plt.xticks(y_pos, bars)\n",
    " \n",
    "# Show graphic\n",
    "plt.show()\n"
   ]
  }
 ],
 "metadata": {
  "kernelspec": {
   "display_name": "Python 3",
   "language": "python",
   "name": "python3"
  },
  "language_info": {
   "codemirror_mode": {
    "name": "ipython",
    "version": 3
   },
   "file_extension": ".py",
   "mimetype": "text/x-python",
   "name": "python",
   "nbconvert_exporter": "python",
   "pygments_lexer": "ipython3",
   "version": "3.7.4"
  }
 },
 "nbformat": 4,
 "nbformat_minor": 2
}
